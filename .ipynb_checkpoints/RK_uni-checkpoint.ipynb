{
 "cells": [
  {
   "cell_type": "code",
   "execution_count": 4,
   "metadata": {
    "id": "W1B8YGw-mXLZ"
   },
   "outputs": [],
   "source": [
    "import pandas as pd"
   ]
  },
  {
   "cell_type": "code",
   "execution_count": 5,
   "metadata": {},
   "outputs": [
    {
     "name": "stdout",
     "output_type": "stream",
     "text": [
      "<class 'pandas.core.frame.DataFrame'>\n",
      "RangeIndex: 6482 entries, 0 to 6481\n",
      "Data columns (total 15 columns):\n",
      " #   Column                  Non-Null Count  Dtype  \n",
      "---  ------                  --------------  -----  \n",
      " 0   university              6482 non-null   object \n",
      " 1   year                    6482 non-null   int64  \n",
      " 2   rank_display            6414 non-null   object \n",
      " 3   score                   2820 non-null   float64\n",
      " 4   link                    6482 non-null   object \n",
      " 5   country                 6482 non-null   object \n",
      " 6   city                    6304 non-null   object \n",
      " 7   region                  6482 non-null   object \n",
      " 8   logo                    6482 non-null   object \n",
      " 9   type                    6470 non-null   object \n",
      " 10  research_output         6480 non-null   object \n",
      " 11  student_faculty_ratio   6407 non-null   float64\n",
      " 12  international_students  6318 non-null   object \n",
      " 13  size                    6480 non-null   object \n",
      " 14  faculty_count           6404 non-null   object \n",
      "dtypes: float64(2), int64(1), object(12)\n",
      "memory usage: 759.7+ KB\n"
     ]
    }
   ],
   "source": [
    "Uni=pd.read_csv('qs-world-university-rankings-2017-to-2022-V2.csv')\n",
    "Uni.head()\n",
    "Uni.info()"
   ]
  },
  {
   "cell_type": "code",
   "execution_count": null,
   "metadata": {},
   "outputs": [],
   "source": []
  }
 ],
 "metadata": {
  "colab": {
   "name": "RK_uni.ipynb",
   "provenance": []
  },
  "kernelspec": {
   "display_name": "Python 3 (ipykernel)",
   "language": "python",
   "name": "python3"
  },
  "language_info": {
   "codemirror_mode": {
    "name": "ipython",
    "version": 3
   },
   "file_extension": ".py",
   "mimetype": "text/x-python",
   "name": "python",
   "nbconvert_exporter": "python",
   "pygments_lexer": "ipython3",
   "version": "3.9.12"
  }
 },
 "nbformat": 4,
 "nbformat_minor": 4
}
