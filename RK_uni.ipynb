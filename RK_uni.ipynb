{
 "cells": [
  {
   "cell_type": "markdown",
   "metadata": {
    "id": "W1B8YGw-mXLZ"
   },
   "source": [
    "# Primera Parte: Carga de Datos"
   ]
  },
  {
   "cell_type": "code",
   "execution_count": 2,
   "metadata": {},
   "outputs": [],
   "source": [
    "import pandas as pd"
   ]
  },
  {
   "cell_type": "code",
   "execution_count": 3,
   "metadata": {},
   "outputs": [
    {
     "name": "stdout",
     "output_type": "stream",
     "text": [
      "<class 'pandas.core.frame.DataFrame'>\n",
      "RangeIndex: 6482 entries, 0 to 6481\n",
      "Data columns (total 15 columns):\n",
      " #   Column                  Non-Null Count  Dtype  \n",
      "---  ------                  --------------  -----  \n",
      " 0   university              6482 non-null   object \n",
      " 1   year                    6482 non-null   int64  \n",
      " 2   rank_display            6414 non-null   object \n",
      " 3   score                   2820 non-null   float64\n",
      " 4   link                    6482 non-null   object \n",
      " 5   country                 6482 non-null   object \n",
      " 6   city                    6304 non-null   object \n",
      " 7   region                  6482 non-null   object \n",
      " 8   logo                    6482 non-null   object \n",
      " 9   type                    6470 non-null   object \n",
      " 10  research_output         6480 non-null   object \n",
      " 11  student_faculty_ratio   6407 non-null   float64\n",
      " 12  international_students  6318 non-null   object \n",
      " 13  size                    6480 non-null   object \n",
      " 14  faculty_count           6404 non-null   object \n",
      "dtypes: float64(2), int64(1), object(12)\n",
      "memory usage: 759.7+ KB\n"
     ]
    }
   ],
   "source": [
    "# En esta parte se carga la Data y se visualiza la cantidad de campos que se tiene en la data.\n",
    "Uni=pd.read_csv('qs-world-university-rankings-2017-to-2022-V2.csv')\n",
    "Uni.head()\n",
    "Uni.info()"
   ]
  },
  {
   "cell_type": "code",
   "execution_count": 4,
   "metadata": {},
   "outputs": [],
   "source": [
    "#Seleccionando los campos con los que se va a trabajar la limpieza.\n",
    "Uni=Uni[['research_output','international_students','type','score',]]"
   ]
  },
  {
   "cell_type": "code",
   "execution_count": 5,
   "metadata": {},
   "outputs": [
    {
     "data": {
      "text/plain": [
       "research_output              2\n",
       "international_students     164\n",
       "type                        12\n",
       "score                     3662\n",
       "dtype: int64"
      ]
     },
     "execution_count": 5,
     "metadata": {},
     "output_type": "execute_result"
    }
   ],
   "source": [
    "#ver el numero de registros null.\n",
    "Uni.isna().sum()"
   ]
  },
  {
   "cell_type": "code",
   "execution_count": 6,
   "metadata": {},
   "outputs": [
    {
     "data": {
      "text/plain": [
       "research_output             2\n",
       "international_students    164\n",
       "type                       12\n",
       "score                       0\n",
       "dtype: int64"
      ]
     },
     "execution_count": 6,
     "metadata": {},
     "output_type": "execute_result"
    }
   ],
   "source": [
    "#Hallando la media del campo score.\n",
    "Uni['score']=Uni['score'].mean()\n",
    "Uni.isna().sum()"
   ]
  },
  {
   "cell_type": "code",
   "execution_count": 7,
   "metadata": {},
   "outputs": [],
   "source": [
    "#llenando de el tipo de universidad con private o public. \n",
    "import random as rd\n",
    "tipos=['private','public']\n",
    "def filltype(tipo):\n",
    " i=rd.randint(0,1) # rango de 0 a 1\n",
    " tipo=tipos[i]\n",
    " return tipo\n",
    "Uni['type'] = Uni['type'].apply(filltype) # aplicando los cambios"
   ]
  },
  {
   "cell_type": "code",
   "execution_count": 8,
   "metadata": {},
   "outputs": [
    {
     "data": {
      "text/plain": [
       "0       private\n",
       "1       private\n",
       "2       private\n",
       "3        public\n",
       "4       private\n",
       "         ...   \n",
       "6477     public\n",
       "6478     public\n",
       "6479    private\n",
       "6480     public\n",
       "6481     public\n",
       "Name: type, Length: 6482, dtype: object"
      ]
     },
     "execution_count": 8,
     "metadata": {},
     "output_type": "execute_result"
    }
   ],
   "source": [
    "Uni['type']"
   ]
  },
  {
   "cell_type": "code",
   "execution_count": 9,
   "metadata": {},
   "outputs": [
    {
     "data": {
      "text/plain": [
       "research_output             2\n",
       "international_students    164\n",
       "type                        0\n",
       "score                       0\n",
       "dtype: int64"
      ]
     },
     "execution_count": 9,
     "metadata": {},
     "output_type": "execute_result"
    }
   ],
   "source": [
    "Uni.isna().sum()"
   ]
  },
  {
   "cell_type": "code",
   "execution_count": 10,
   "metadata": {},
   "outputs": [],
   "source": [
    "quality=['very high','medium','high','low']\n",
    "def fillquality(tipo):\n",
    " i=rd.randint(0,3)\n",
    " tipo=quality[i]\n",
    " return tipo\n",
    "Uni['research_output']=Uni['research_output'].apply(fillquality)"
   ]
  },
  {
   "cell_type": "code",
   "execution_count": 11,
   "metadata": {},
   "outputs": [],
   "source": [
    "Uni.isna().sum()\n",
    "#comvercion a  minuscula\n",
    "Uni['research_output']=Uni['research_output'].str.lower()"
   ]
  },
  {
   "cell_type": "code",
   "execution_count": 12,
   "metadata": {},
   "outputs": [
    {
     "data": {
      "text/html": [
       "<div>\n",
       "<style scoped>\n",
       "    .dataframe tbody tr th:only-of-type {\n",
       "        vertical-align: middle;\n",
       "    }\n",
       "\n",
       "    .dataframe tbody tr th {\n",
       "        vertical-align: top;\n",
       "    }\n",
       "\n",
       "    .dataframe thead th {\n",
       "        text-align: right;\n",
       "    }\n",
       "</style>\n",
       "<table border=\"1\" class=\"dataframe\">\n",
       "  <thead>\n",
       "    <tr style=\"text-align: right;\">\n",
       "      <th></th>\n",
       "      <th>research_output</th>\n",
       "      <th>international_students</th>\n",
       "      <th>type</th>\n",
       "      <th>score</th>\n",
       "    </tr>\n",
       "  </thead>\n",
       "  <tbody>\n",
       "    <tr>\n",
       "      <th>6472</th>\n",
       "      <td>high</td>\n",
       "      <td>1,003</td>\n",
       "      <td>public</td>\n",
       "      <td>46.595532</td>\n",
       "    </tr>\n",
       "    <tr>\n",
       "      <th>6473</th>\n",
       "      <td>very high</td>\n",
       "      <td>373</td>\n",
       "      <td>private</td>\n",
       "      <td>46.595532</td>\n",
       "    </tr>\n",
       "    <tr>\n",
       "      <th>6474</th>\n",
       "      <td>high</td>\n",
       "      <td>1,244</td>\n",
       "      <td>private</td>\n",
       "      <td>46.595532</td>\n",
       "    </tr>\n",
       "    <tr>\n",
       "      <th>6475</th>\n",
       "      <td>low</td>\n",
       "      <td>2,441</td>\n",
       "      <td>private</td>\n",
       "      <td>46.595532</td>\n",
       "    </tr>\n",
       "    <tr>\n",
       "      <th>6476</th>\n",
       "      <td>high</td>\n",
       "      <td>1,976</td>\n",
       "      <td>private</td>\n",
       "      <td>46.595532</td>\n",
       "    </tr>\n",
       "    <tr>\n",
       "      <th>6477</th>\n",
       "      <td>high</td>\n",
       "      <td>57</td>\n",
       "      <td>public</td>\n",
       "      <td>46.595532</td>\n",
       "    </tr>\n",
       "    <tr>\n",
       "      <th>6478</th>\n",
       "      <td>very high</td>\n",
       "      <td>585</td>\n",
       "      <td>public</td>\n",
       "      <td>46.595532</td>\n",
       "    </tr>\n",
       "    <tr>\n",
       "      <th>6479</th>\n",
       "      <td>high</td>\n",
       "      <td>2,826</td>\n",
       "      <td>private</td>\n",
       "      <td>46.595532</td>\n",
       "    </tr>\n",
       "    <tr>\n",
       "      <th>6480</th>\n",
       "      <td>high</td>\n",
       "      <td>2,394</td>\n",
       "      <td>public</td>\n",
       "      <td>46.595532</td>\n",
       "    </tr>\n",
       "    <tr>\n",
       "      <th>6481</th>\n",
       "      <td>very high</td>\n",
       "      <td>2,300</td>\n",
       "      <td>public</td>\n",
       "      <td>46.595532</td>\n",
       "    </tr>\n",
       "  </tbody>\n",
       "</table>\n",
       "</div>"
      ],
      "text/plain": [
       "     research_output international_students     type      score\n",
       "6472            high                  1,003   public  46.595532\n",
       "6473       very high                    373  private  46.595532\n",
       "6474            high                  1,244  private  46.595532\n",
       "6475             low                  2,441  private  46.595532\n",
       "6476            high                  1,976  private  46.595532\n",
       "6477            high                     57   public  46.595532\n",
       "6478       very high                    585   public  46.595532\n",
       "6479            high                  2,826  private  46.595532\n",
       "6480            high                  2,394   public  46.595532\n",
       "6481       very high                  2,300   public  46.595532"
      ]
     },
     "execution_count": 12,
     "metadata": {},
     "output_type": "execute_result"
    }
   ],
   "source": [
    "Uni.tail(10)"
   ]
  },
  {
   "cell_type": "code",
   "execution_count": null,
   "metadata": {},
   "outputs": [],
   "source": []
  }
 ],
 "metadata": {
  "colab": {
   "name": "RK_uni.ipynb",
   "provenance": []
  },
  "kernelspec": {
   "display_name": "Python 3 (ipykernel)",
   "language": "python",
   "name": "python3"
  },
  "language_info": {
   "codemirror_mode": {
    "name": "ipython",
    "version": 3
   },
   "file_extension": ".py",
   "mimetype": "text/x-python",
   "name": "python",
   "nbconvert_exporter": "python",
   "pygments_lexer": "ipython3",
   "version": "3.9.12"
  }
 },
 "nbformat": 4,
 "nbformat_minor": 4
}
