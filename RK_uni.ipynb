{
 "cells": [
  {
   "cell_type": "markdown",
   "metadata": {
    "id": "W1B8YGw-mXLZ"
   },
   "source": [
    "# Primera Parte: Carga de Datos"
   ]
  },
  {
   "cell_type": "code",
   "execution_count": 66,
   "metadata": {},
   "outputs": [],
   "source": [
    "import pandas as pd"
   ]
  },
  {
   "cell_type": "code",
   "execution_count": 67,
   "metadata": {},
   "outputs": [
    {
     "name": "stdout",
     "output_type": "stream",
     "text": [
      "<class 'pandas.core.frame.DataFrame'>\n",
      "RangeIndex: 6482 entries, 0 to 6481\n",
      "Data columns (total 15 columns):\n",
      " #   Column                  Non-Null Count  Dtype  \n",
      "---  ------                  --------------  -----  \n",
      " 0   university              6482 non-null   object \n",
      " 1   year                    6482 non-null   int64  \n",
      " 2   rank_display            6414 non-null   object \n",
      " 3   score                   2820 non-null   float64\n",
      " 4   link                    6482 non-null   object \n",
      " 5   country                 6482 non-null   object \n",
      " 6   city                    6304 non-null   object \n",
      " 7   region                  6482 non-null   object \n",
      " 8   logo                    6482 non-null   object \n",
      " 9   type                    6470 non-null   object \n",
      " 10  research_output         6480 non-null   object \n",
      " 11  student_faculty_ratio   6407 non-null   float64\n",
      " 12  international_students  6318 non-null   object \n",
      " 13  size                    6480 non-null   object \n",
      " 14  faculty_count           6404 non-null   object \n",
      "dtypes: float64(2), int64(1), object(12)\n",
      "memory usage: 759.7+ KB\n"
     ]
    }
   ],
   "source": [
    "# En esta parte se carga la Data y se visualiza la cantidad de campos que se tiene en la data.\n",
    "Uni=pd.read_csv('qs-world-university-rankings-2017-to-2022-V2.csv')\n",
    "Uni.head()\n",
    "Uni.info()"
   ]
  },
  {
   "cell_type": "markdown",
   "metadata": {},
   "source": [
    "# Segunda Parte: Limpieza de Datos"
   ]
  },
  {
   "cell_type": "code",
   "execution_count": 68,
   "metadata": {},
   "outputs": [],
   "source": [
    "#Seleccionando los campos con los que se va a trabajar.\n",
    "Uni=Uni[['research_output','international_students','type','score',]]"
   ]
  },
  {
   "cell_type": "code",
   "execution_count": 69,
   "metadata": {},
   "outputs": [
    {
     "data": {
      "text/plain": [
       "research_output              2\n",
       "international_students     164\n",
       "type                        12\n",
       "score                     3662\n",
       "dtype: int64"
      ]
     },
     "execution_count": 69,
     "metadata": {},
     "output_type": "execute_result"
    }
   ],
   "source": [
    "#ver el numero de registros null.\n",
    "Uni.isna().sum()"
   ]
  },
  {
   "cell_type": "code",
   "execution_count": 70,
   "metadata": {},
   "outputs": [
    {
     "data": {
      "text/html": [
       "<div>\n",
       "<style scoped>\n",
       "    .dataframe tbody tr th:only-of-type {\n",
       "        vertical-align: middle;\n",
       "    }\n",
       "\n",
       "    .dataframe tbody tr th {\n",
       "        vertical-align: top;\n",
       "    }\n",
       "\n",
       "    .dataframe thead th {\n",
       "        text-align: right;\n",
       "    }\n",
       "</style>\n",
       "<table border=\"1\" class=\"dataframe\">\n",
       "  <thead>\n",
       "    <tr style=\"text-align: right;\">\n",
       "      <th></th>\n",
       "      <th>research_output</th>\n",
       "      <th>international_students</th>\n",
       "      <th>type</th>\n",
       "      <th>score</th>\n",
       "    </tr>\n",
       "  </thead>\n",
       "  <tbody>\n",
       "    <tr>\n",
       "      <th>0</th>\n",
       "      <td>Very High</td>\n",
       "      <td>3,730</td>\n",
       "      <td>Private</td>\n",
       "      <td>100.0</td>\n",
       "    </tr>\n",
       "    <tr>\n",
       "      <th>1</th>\n",
       "      <td>Very High</td>\n",
       "      <td>3,879</td>\n",
       "      <td>Private</td>\n",
       "      <td>98.7</td>\n",
       "    </tr>\n",
       "    <tr>\n",
       "      <th>2</th>\n",
       "      <td>Very High</td>\n",
       "      <td>5,877</td>\n",
       "      <td>Private</td>\n",
       "      <td>98.3</td>\n",
       "    </tr>\n",
       "    <tr>\n",
       "      <th>3</th>\n",
       "      <td>Very high</td>\n",
       "      <td>7,925</td>\n",
       "      <td>Public</td>\n",
       "      <td>97.2</td>\n",
       "    </tr>\n",
       "    <tr>\n",
       "      <th>4</th>\n",
       "      <td>Very High</td>\n",
       "      <td>692</td>\n",
       "      <td>Private</td>\n",
       "      <td>96.9</td>\n",
       "    </tr>\n",
       "    <tr>\n",
       "      <th>...</th>\n",
       "      <td>...</td>\n",
       "      <td>...</td>\n",
       "      <td>...</td>\n",
       "      <td>...</td>\n",
       "    </tr>\n",
       "    <tr>\n",
       "      <th>6477</th>\n",
       "      <td>High</td>\n",
       "      <td>57</td>\n",
       "      <td>Public</td>\n",
       "      <td>NaN</td>\n",
       "    </tr>\n",
       "    <tr>\n",
       "      <th>6478</th>\n",
       "      <td>Very High</td>\n",
       "      <td>585</td>\n",
       "      <td>Public</td>\n",
       "      <td>NaN</td>\n",
       "    </tr>\n",
       "    <tr>\n",
       "      <th>6479</th>\n",
       "      <td>Medium</td>\n",
       "      <td>2,826</td>\n",
       "      <td>Public</td>\n",
       "      <td>NaN</td>\n",
       "    </tr>\n",
       "    <tr>\n",
       "      <th>6480</th>\n",
       "      <td>High</td>\n",
       "      <td>2,394</td>\n",
       "      <td>Public</td>\n",
       "      <td>NaN</td>\n",
       "    </tr>\n",
       "    <tr>\n",
       "      <th>6481</th>\n",
       "      <td>High</td>\n",
       "      <td>2,300</td>\n",
       "      <td>Public</td>\n",
       "      <td>NaN</td>\n",
       "    </tr>\n",
       "  </tbody>\n",
       "</table>\n",
       "<p>6482 rows × 4 columns</p>\n",
       "</div>"
      ],
      "text/plain": [
       "     research_output international_students     type  score\n",
       "0          Very High                  3,730  Private  100.0\n",
       "1          Very High                  3,879  Private   98.7\n",
       "2          Very High                  5,877  Private   98.3\n",
       "3          Very high                  7,925   Public   97.2\n",
       "4          Very High                    692  Private   96.9\n",
       "...              ...                    ...      ...    ...\n",
       "6477            High                     57   Public    NaN\n",
       "6478       Very High                    585   Public    NaN\n",
       "6479          Medium                  2,826   Public    NaN\n",
       "6480            High                  2,394   Public    NaN\n",
       "6481            High                  2,300   Public    NaN\n",
       "\n",
       "[6482 rows x 4 columns]"
      ]
     },
     "execution_count": 70,
     "metadata": {},
     "output_type": "execute_result"
    }
   ],
   "source": [
    "Uni"
   ]
  },
  {
   "cell_type": "code",
   "execution_count": 72,
   "metadata": {},
   "outputs": [
    {
     "data": {
      "text/plain": [
       "research_output             2\n",
       "international_students    164\n",
       "type                       12\n",
       "score                       0\n",
       "dtype: int64"
      ]
     },
     "execution_count": 72,
     "metadata": {},
     "output_type": "execute_result"
    }
   ],
   "source": [
    "#Llenando los campos nulos con la media del campo score.\n",
    "Uni['score'] = Uni['score'].fillna(Uni['score'].mean())\n",
    "Uni.isna().sum()"
   ]
  },
  {
   "cell_type": "code",
   "execution_count": 115,
   "metadata": {},
   "outputs": [],
   "source": [
    "#llenando de el tipo de universidad con private o public. \n",
    "import random as rd\n",
    "tipos=['private','public']\n",
    "def filltype(tipo):\n",
    " i=rd.randint(0,1) # rango de 0 a 1\n",
    " tipo=tipos[i]\n",
    " return tipo\n",
    "Uni['type'] = Uni['type'].fillna(Uni['type'].apply(filltype))"
   ]
  },
  {
   "cell_type": "code",
   "execution_count": 117,
   "metadata": {},
   "outputs": [
    {
     "data": {
      "text/html": [
       "<div>\n",
       "<style scoped>\n",
       "    .dataframe tbody tr th:only-of-type {\n",
       "        vertical-align: middle;\n",
       "    }\n",
       "\n",
       "    .dataframe tbody tr th {\n",
       "        vertical-align: top;\n",
       "    }\n",
       "\n",
       "    .dataframe thead th {\n",
       "        text-align: right;\n",
       "    }\n",
       "</style>\n",
       "<table border=\"1\" class=\"dataframe\">\n",
       "  <thead>\n",
       "    <tr style=\"text-align: right;\">\n",
       "      <th></th>\n",
       "      <th>research_output</th>\n",
       "      <th>international_students</th>\n",
       "      <th>type</th>\n",
       "      <th>score</th>\n",
       "    </tr>\n",
       "  </thead>\n",
       "  <tbody>\n",
       "    <tr>\n",
       "      <th>0</th>\n",
       "      <td>Very High</td>\n",
       "      <td>3,730</td>\n",
       "      <td>Private</td>\n",
       "      <td>100.000000</td>\n",
       "    </tr>\n",
       "    <tr>\n",
       "      <th>1</th>\n",
       "      <td>Very High</td>\n",
       "      <td>3,879</td>\n",
       "      <td>Private</td>\n",
       "      <td>98.700000</td>\n",
       "    </tr>\n",
       "    <tr>\n",
       "      <th>2</th>\n",
       "      <td>Very High</td>\n",
       "      <td>5,877</td>\n",
       "      <td>Private</td>\n",
       "      <td>98.300000</td>\n",
       "    </tr>\n",
       "    <tr>\n",
       "      <th>3</th>\n",
       "      <td>Very high</td>\n",
       "      <td>7,925</td>\n",
       "      <td>Public</td>\n",
       "      <td>97.200000</td>\n",
       "    </tr>\n",
       "    <tr>\n",
       "      <th>4</th>\n",
       "      <td>Very High</td>\n",
       "      <td>692</td>\n",
       "      <td>Private</td>\n",
       "      <td>96.900000</td>\n",
       "    </tr>\n",
       "    <tr>\n",
       "      <th>...</th>\n",
       "      <td>...</td>\n",
       "      <td>...</td>\n",
       "      <td>...</td>\n",
       "      <td>...</td>\n",
       "    </tr>\n",
       "    <tr>\n",
       "      <th>6477</th>\n",
       "      <td>High</td>\n",
       "      <td>57</td>\n",
       "      <td>Public</td>\n",
       "      <td>46.595532</td>\n",
       "    </tr>\n",
       "    <tr>\n",
       "      <th>6478</th>\n",
       "      <td>Very High</td>\n",
       "      <td>585</td>\n",
       "      <td>Public</td>\n",
       "      <td>46.595532</td>\n",
       "    </tr>\n",
       "    <tr>\n",
       "      <th>6479</th>\n",
       "      <td>Medium</td>\n",
       "      <td>2,826</td>\n",
       "      <td>Public</td>\n",
       "      <td>46.595532</td>\n",
       "    </tr>\n",
       "    <tr>\n",
       "      <th>6480</th>\n",
       "      <td>High</td>\n",
       "      <td>2,394</td>\n",
       "      <td>Public</td>\n",
       "      <td>46.595532</td>\n",
       "    </tr>\n",
       "    <tr>\n",
       "      <th>6481</th>\n",
       "      <td>High</td>\n",
       "      <td>2,300</td>\n",
       "      <td>Public</td>\n",
       "      <td>46.595532</td>\n",
       "    </tr>\n",
       "  </tbody>\n",
       "</table>\n",
       "<p>6482 rows × 4 columns</p>\n",
       "</div>"
      ],
      "text/plain": [
       "     research_output international_students     type       score\n",
       "0          Very High                  3,730  Private  100.000000\n",
       "1          Very High                  3,879  Private   98.700000\n",
       "2          Very High                  5,877  Private   98.300000\n",
       "3          Very high                  7,925   Public   97.200000\n",
       "4          Very High                    692  Private   96.900000\n",
       "...              ...                    ...      ...         ...\n",
       "6477            High                     57   Public   46.595532\n",
       "6478       Very High                    585   Public   46.595532\n",
       "6479          Medium                  2,826   Public   46.595532\n",
       "6480            High                  2,394   Public   46.595532\n",
       "6481            High                  2,300   Public   46.595532\n",
       "\n",
       "[6482 rows x 4 columns]"
      ]
     },
     "execution_count": 117,
     "metadata": {},
     "output_type": "execute_result"
    }
   ],
   "source": [
    "Uni"
   ]
  },
  {
   "cell_type": "code",
   "execution_count": 119,
   "metadata": {},
   "outputs": [
    {
     "data": {
      "text/plain": [
       "research_output             2\n",
       "international_students    164\n",
       "type                        0\n",
       "score                       0\n",
       "dtype: int64"
      ]
     },
     "execution_count": 119,
     "metadata": {},
     "output_type": "execute_result"
    }
   ],
   "source": [
    "Uni.isna().sum()"
   ]
  },
  {
   "cell_type": "code",
   "execution_count": 120,
   "metadata": {},
   "outputs": [],
   "source": [
    "quality=['very high','medium','high','low']\n",
    "def fillquality(tipo):\n",
    " i=rd.randint(0,3)\n",
    " tipo=quality[i]\n",
    " return tipo\n",
    "Uni['research_output'] = Uni['research_output'].fillna(Uni['research_output'].apply(fillquality))"
   ]
  },
  {
   "cell_type": "code",
   "execution_count": 121,
   "metadata": {},
   "outputs": [],
   "source": [
    "Uni.isna().sum()\n",
    "#comvercion a  minuscula\n",
    "Uni['research_output']=Uni['research_output'].str.lower()"
   ]
  },
  {
   "cell_type": "code",
   "execution_count": 122,
   "metadata": {},
   "outputs": [
    {
     "data": {
      "text/html": [
       "<div>\n",
       "<style scoped>\n",
       "    .dataframe tbody tr th:only-of-type {\n",
       "        vertical-align: middle;\n",
       "    }\n",
       "\n",
       "    .dataframe tbody tr th {\n",
       "        vertical-align: top;\n",
       "    }\n",
       "\n",
       "    .dataframe thead th {\n",
       "        text-align: right;\n",
       "    }\n",
       "</style>\n",
       "<table border=\"1\" class=\"dataframe\">\n",
       "  <thead>\n",
       "    <tr style=\"text-align: right;\">\n",
       "      <th></th>\n",
       "      <th>research_output</th>\n",
       "      <th>international_students</th>\n",
       "      <th>type</th>\n",
       "      <th>score</th>\n",
       "    </tr>\n",
       "  </thead>\n",
       "  <tbody>\n",
       "    <tr>\n",
       "      <th>6472</th>\n",
       "      <td>medium</td>\n",
       "      <td>1,003</td>\n",
       "      <td>Public</td>\n",
       "      <td>46.595532</td>\n",
       "    </tr>\n",
       "    <tr>\n",
       "      <th>6473</th>\n",
       "      <td>high</td>\n",
       "      <td>373</td>\n",
       "      <td>Public</td>\n",
       "      <td>46.595532</td>\n",
       "    </tr>\n",
       "    <tr>\n",
       "      <th>6474</th>\n",
       "      <td>high</td>\n",
       "      <td>1,244</td>\n",
       "      <td>Public</td>\n",
       "      <td>46.595532</td>\n",
       "    </tr>\n",
       "    <tr>\n",
       "      <th>6475</th>\n",
       "      <td>very high</td>\n",
       "      <td>2,441</td>\n",
       "      <td>Public</td>\n",
       "      <td>46.595532</td>\n",
       "    </tr>\n",
       "    <tr>\n",
       "      <th>6476</th>\n",
       "      <td>high</td>\n",
       "      <td>1,976</td>\n",
       "      <td>Public</td>\n",
       "      <td>46.595532</td>\n",
       "    </tr>\n",
       "    <tr>\n",
       "      <th>6477</th>\n",
       "      <td>high</td>\n",
       "      <td>57</td>\n",
       "      <td>Public</td>\n",
       "      <td>46.595532</td>\n",
       "    </tr>\n",
       "    <tr>\n",
       "      <th>6478</th>\n",
       "      <td>very high</td>\n",
       "      <td>585</td>\n",
       "      <td>Public</td>\n",
       "      <td>46.595532</td>\n",
       "    </tr>\n",
       "    <tr>\n",
       "      <th>6479</th>\n",
       "      <td>medium</td>\n",
       "      <td>2,826</td>\n",
       "      <td>Public</td>\n",
       "      <td>46.595532</td>\n",
       "    </tr>\n",
       "    <tr>\n",
       "      <th>6480</th>\n",
       "      <td>high</td>\n",
       "      <td>2,394</td>\n",
       "      <td>Public</td>\n",
       "      <td>46.595532</td>\n",
       "    </tr>\n",
       "    <tr>\n",
       "      <th>6481</th>\n",
       "      <td>high</td>\n",
       "      <td>2,300</td>\n",
       "      <td>Public</td>\n",
       "      <td>46.595532</td>\n",
       "    </tr>\n",
       "  </tbody>\n",
       "</table>\n",
       "</div>"
      ],
      "text/plain": [
       "     research_output international_students    type      score\n",
       "6472          medium                  1,003  Public  46.595532\n",
       "6473            high                    373  Public  46.595532\n",
       "6474            high                  1,244  Public  46.595532\n",
       "6475       very high                  2,441  Public  46.595532\n",
       "6476            high                  1,976  Public  46.595532\n",
       "6477            high                     57  Public  46.595532\n",
       "6478       very high                    585  Public  46.595532\n",
       "6479          medium                  2,826  Public  46.595532\n",
       "6480            high                  2,394  Public  46.595532\n",
       "6481            high                  2,300  Public  46.595532"
      ]
     },
     "execution_count": 122,
     "metadata": {},
     "output_type": "execute_result"
    }
   ],
   "source": [
    "Uni.tail(10)"
   ]
  },
  {
   "cell_type": "code",
   "execution_count": 123,
   "metadata": {},
   "outputs": [],
   "source": [
    "import re\n",
    "#Limpiando los puntos y comas del campo international_students\n",
    "Uni['international_students']=Uni['international_students'].str.replace(re.compile('[\\.,]'),'')"
   ]
  },
  {
   "cell_type": "code",
   "execution_count": 124,
   "metadata": {},
   "outputs": [],
   "source": [
    "#llenado del campo international_students con valores de rango [1000-25000]\n",
    "def fillstudents(tipo):\n",
    " i=rd.randint(1000,25000)\n",
    " return str(i)\n",
    "Uni['international_students']= Uni['international_students'].fillna(Uni['international_students'].apply(fillstudents))"
   ]
  },
  {
   "cell_type": "code",
   "execution_count": 125,
   "metadata": {},
   "outputs": [
    {
     "data": {
      "text/plain": [
       "research_output           0\n",
       "international_students    0\n",
       "type                      0\n",
       "score                     0\n",
       "dtype: int64"
      ]
     },
     "execution_count": 125,
     "metadata": {},
     "output_type": "execute_result"
    }
   ],
   "source": [
    "#visualizacon de los campos a utilizar\n",
    "Uni.isna().sum()"
   ]
  },
  {
   "cell_type": "code",
   "execution_count": 126,
   "metadata": {},
   "outputs": [
    {
     "name": "stdout",
     "output_type": "stream",
     "text": [
      "<class 'pandas.core.frame.DataFrame'>\n",
      "RangeIndex: 6482 entries, 0 to 6481\n",
      "Data columns (total 4 columns):\n",
      " #   Column                  Non-Null Count  Dtype  \n",
      "---  ------                  --------------  -----  \n",
      " 0   research_output         6482 non-null   object \n",
      " 1   international_students  6482 non-null   int64  \n",
      " 2   type                    6482 non-null   object \n",
      " 3   score                   6482 non-null   float64\n",
      "dtypes: float64(1), int64(1), object(2)\n",
      "memory usage: 202.7+ KB\n"
     ]
    }
   ],
   "source": [
    "#comvercion del campo international_students  de string a int\n",
    "Uni['international_students']=Uni['international_students'].astype(int)\n",
    "Uni.info()"
   ]
  },
  {
   "cell_type": "markdown",
   "metadata": {},
   "source": [
    "# Tercera Parte: Normalizacion de Datos"
   ]
  }
 ],
 "metadata": {
  "colab": {
   "name": "RK_uni.ipynb",
   "provenance": []
  },
  "kernelspec": {
   "display_name": "Python 3 (ipykernel)",
   "language": "python",
   "name": "python3"
  },
  "language_info": {
   "codemirror_mode": {
    "name": "ipython",
    "version": 3
   },
   "file_extension": ".py",
   "mimetype": "text/x-python",
   "name": "python",
   "nbconvert_exporter": "python",
   "pygments_lexer": "ipython3",
   "version": "3.8.10"
  }
 },
 "nbformat": 4,
 "nbformat_minor": 4
}
